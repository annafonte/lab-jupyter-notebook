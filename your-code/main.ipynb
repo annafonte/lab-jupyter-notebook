{
 "cells": [
  {
   "cell_type": "markdown",
   "metadata": {},
   "source": [
    "# New repo"
   ]
  },
  {
   "cell_type": "code",
   "execution_count": null,
   "metadata": {},
   "outputs": [],
   "source": [
    "# In the notebook that you created, introduce someone and her/his holidays preference with a picture and a link to a youtube video of this holiday preference (It can be you :D).\n",
    "#DONE Explain the purpose of the notebook with beautiful markdown!\n",
    "#DONE Include an index to the relevant sections of your notebook\n",
    "#DONE Write a function that inputs the user's name (You or a friend)\n",
    "#DONE Add a photo of you or that friend.\n",
    "#DONE Write a function that inputs their holidays preference.\n",
    "#DONE Add a photo of you or that friend in the holiday destination\n",
    "#DONE Add bullet points of the top 3 things that you or your friend like doing in this destination.\n",
    "#DONE Try to make the text colorful, bold or italic.\n",
    "#DONE Add a link to a youtube video of the destination.\n",
    "#DONE Add titles to all sections you have created, and then create hyperlinks from the elements of the index to their corresponding section title."
   ]
  },
  {
   "cell_type": "markdown",
   "metadata": {},
   "source": [
    "# My holidays preference: <font color='green'>Rapa Nui</font>"
   ]
  },
  {
   "cell_type": "markdown",
   "metadata": {},
   "source": [
    "### The purpose of this notebook is to introduce **my holidays preferences**"
   ]
  },
  {
   "cell_type": "markdown",
   "metadata": {},
   "source": [
    "1. [Top 3 things to do in Rapa Nui](#Top3)\n",
    "2. [Photos of the destination](#Photos)\n",
    "3. [Video of the destination](#Video)"
   ]
  },
  {
   "cell_type": "code",
   "execution_count": null,
   "metadata": {},
   "outputs": [],
   "source": [
    "print(input(\"Write your name:\"))"
   ]
  },
  {
   "cell_type": "code",
   "execution_count": null,
   "metadata": {},
   "outputs": [],
   "source": [
    "print(input(\"Insert your holiday preference:\"))"
   ]
  },
  {
   "cell_type": "markdown",
   "metadata": {},
   "source": [
    "<a id=\"Top3\"></a>"
   ]
  },
  {
   "cell_type": "markdown",
   "metadata": {},
   "source": [
    "#### 1. Top 3 things to do in Rapa Nui"
   ]
  },
  {
   "cell_type": "markdown",
   "metadata": {},
   "source": [
    "* Discover an ancient and mysterious <font color='green'>culture</font>\n",
    "* Relax and enjoy the beautiful <font color='purple'>beaches</font> of the island \n",
    "* Meet <font color='blue'>local people</font> and explore their daily life"
   ]
  },
  {
   "cell_type": "markdown",
   "metadata": {},
   "source": [
    "<a id=\"Photos\"></a>"
   ]
  },
  {
   "cell_type": "markdown",
   "metadata": {},
   "source": [
    "#### 2. Photos"
   ]
  },
  {
   "attachments": {},
   "cell_type": "markdown",
   "metadata": {},
   "source": [
    "<img src=\"rapa_nui.jpg\" width =\"400\" height=400 > "
   ]
  },
  {
   "cell_type": "markdown",
   "metadata": {},
   "source": [
    "<img src=\"eu.jpg\" width =\"400\" height=400 > "
   ]
  },
  {
   "cell_type": "markdown",
   "metadata": {},
   "source": [
    "<a id=\"Video\"></a>"
   ]
  },
  {
   "cell_type": "markdown",
   "metadata": {},
   "source": [
    "#### 3. Videos"
   ]
  },
  {
   "cell_type": "markdown",
   "metadata": {},
   "source": [
    "You can watch a video of the destination in <a href=\"https://www.youtube.com/watch?v=_tZx5wxqXXk&ab_channel=Enrique%C3%81lex\" target=\"_blank\">this link</a>."
   ]
  }
 ],
 "metadata": {
  "kernelspec": {
   "display_name": "Python 3",
   "language": "python",
   "name": "python3"
  }
 },
 "nbformat": 4,
 "nbformat_minor": 4
}
